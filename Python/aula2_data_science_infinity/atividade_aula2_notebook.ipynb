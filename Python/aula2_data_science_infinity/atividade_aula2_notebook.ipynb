{
 "cells": [
  {
   "cell_type": "markdown",
   "id": "ee1505c1",
   "metadata": {},
   "source": [
    "Leia a base de dados sobre vinhos, e responda as\n",
    "seguintes perguntas:\n",
    "\n",
    "- 1.Sobre o que se tratam esses dados?\n",
    "- 2.Qual é o estilo que mais aparece?\n",
    "- 3.Qual é o preço e a etiqueta do(s) vinho(s) mais caro(s)?\n",
    "- 4.Qual é o preço e o estilo do(s) vinho(s) mais barato(s)?"
   ]
  },
  {
   "cell_type": "code",
   "execution_count": 7,
   "id": "e866f410",
   "metadata": {},
   "outputs": [],
   "source": [
    "import pandas as pd"
   ]
  },
  {
   "cell_type": "code",
   "execution_count": 8,
   "id": "5b5bf6a5",
   "metadata": {},
   "outputs": [],
   "source": [
    "df_wine = pd.read_csv(\"https://raw.githubusercontent.com/rafaelpuyau/infinity_school/main/ds/datasets/wines.csv\")"
   ]
  },
  {
   "cell_type": "markdown",
   "id": "984f57c7",
   "metadata": {},
   "source": [
    "# 1. Sobre o que se tratam esses dados? "
   ]
  },
  {
   "cell_type": "code",
   "execution_count": null,
   "id": "9b47f340",
   "metadata": {},
   "outputs": [
    {
     "data": {
      "text/html": [
       "<div>\n",
       "<style scoped>\n",
       "    .dataframe tbody tr th:only-of-type {\n",
       "        vertical-align: middle;\n",
       "    }\n",
       "\n",
       "    .dataframe tbody tr th {\n",
       "        vertical-align: top;\n",
       "    }\n",
       "\n",
       "    .dataframe thead th {\n",
       "        text-align: right;\n",
       "    }\n",
       "</style>\n",
       "<table border=\"1\" class=\"dataframe\">\n",
       "  <thead>\n",
       "    <tr style=\"text-align: right;\">\n",
       "      <th></th>\n",
       "      <th>date</th>\n",
       "      <th>label</th>\n",
       "      <th>vintage</th>\n",
       "      <th>style</th>\n",
       "      <th>country</th>\n",
       "      <th>price</th>\n",
       "      <th>quantity</th>\n",
       "      <th>rate</th>\n",
       "    </tr>\n",
       "  </thead>\n",
       "  <tbody>\n",
       "    <tr>\n",
       "      <th>0</th>\n",
       "      <td>2021-01-04</td>\n",
       "      <td>Wine K</td>\n",
       "      <td>2002</td>\n",
       "      <td>White</td>\n",
       "      <td>Portugal</td>\n",
       "      <td>144.22</td>\n",
       "      <td>9</td>\n",
       "      <td>97</td>\n",
       "    </tr>\n",
       "    <tr>\n",
       "      <th>1</th>\n",
       "      <td>2021-03-11</td>\n",
       "      <td>Wine J</td>\n",
       "      <td>1982</td>\n",
       "      <td>Red</td>\n",
       "      <td>Portugal</td>\n",
       "      <td>244.80</td>\n",
       "      <td>3</td>\n",
       "      <td>76</td>\n",
       "    </tr>\n",
       "    <tr>\n",
       "      <th>2</th>\n",
       "      <td>2021-10-02</td>\n",
       "      <td>Wine Y</td>\n",
       "      <td>2018</td>\n",
       "      <td>Orange</td>\n",
       "      <td>France</td>\n",
       "      <td>98.83</td>\n",
       "      <td>2</td>\n",
       "      <td>79</td>\n",
       "    </tr>\n",
       "    <tr>\n",
       "      <th>3</th>\n",
       "      <td>2021-06-05</td>\n",
       "      <td>Wine I</td>\n",
       "      <td>1989</td>\n",
       "      <td>Red</td>\n",
       "      <td>Spain</td>\n",
       "      <td>59.64</td>\n",
       "      <td>11</td>\n",
       "      <td>77</td>\n",
       "    </tr>\n",
       "    <tr>\n",
       "      <th>4</th>\n",
       "      <td>2021-09-06</td>\n",
       "      <td>Wine N</td>\n",
       "      <td>2006</td>\n",
       "      <td>White</td>\n",
       "      <td>Spain</td>\n",
       "      <td>187.70</td>\n",
       "      <td>6</td>\n",
       "      <td>91</td>\n",
       "    </tr>\n",
       "  </tbody>\n",
       "</table>\n",
       "</div>"
      ],
      "text/plain": [
       "         date   label  vintage   style   country   price  quantity  rate\n",
       "0  2021-01-04  Wine K     2002   White  Portugal  144.22         9    97\n",
       "1  2021-03-11  Wine J     1982     Red  Portugal  244.80         3    76\n",
       "2  2021-10-02  Wine Y     2018  Orange    France   98.83         2    79\n",
       "3  2021-06-05  Wine I     1989     Red     Spain   59.64        11    77\n",
       "4  2021-09-06  Wine N     2006   White     Spain  187.70         6    91"
      ]
     },
     "execution_count": 9,
     "metadata": {},
     "output_type": "execute_result"
    }
   ],
   "source": [
    "df_wine.head()       "
   ]
  },
  {
   "cell_type": "markdown",
   "id": "2f4d8382",
   "metadata": {},
   "source": [
    "# 2. Qual é o estilo que mais aparece?"
   ]
  },
  {
   "cell_type": "code",
   "execution_count": 10,
   "id": "9c27dd73",
   "metadata": {},
   "outputs": [
    {
     "data": {
      "text/plain": [
       "style\n",
       "White        1710\n",
       "Rose         1706\n",
       "Orange       1658\n",
       "Sweet        1648\n",
       "Red          1640\n",
       "Sparkling    1638\n",
       "Name: count, dtype: int64"
      ]
     },
     "execution_count": 10,
     "metadata": {},
     "output_type": "execute_result"
    }
   ],
   "source": [
    "df_wine.value_counts(\"style\")"
   ]
  },
  {
   "cell_type": "markdown",
   "id": "b912ffeb",
   "metadata": {},
   "source": [
    "# 3. Qual é o preço e a etiqueta do(s) vinho(s) mais caro(s)?\n",
    "# 4.Qual é o preço e o estilo do(s) vinho(s) mais barato(s)?"
   ]
  },
  {
   "cell_type": "code",
   "execution_count": null,
   "id": "7fc3fcdd",
   "metadata": {},
   "outputs": [
    {
     "data": {
      "text/html": [
       "<div>\n",
       "<style scoped>\n",
       "    .dataframe tbody tr th:only-of-type {\n",
       "        vertical-align: middle;\n",
       "    }\n",
       "\n",
       "    .dataframe tbody tr th {\n",
       "        vertical-align: top;\n",
       "    }\n",
       "\n",
       "    .dataframe thead th {\n",
       "        text-align: right;\n",
       "    }\n",
       "</style>\n",
       "<table border=\"1\" class=\"dataframe\">\n",
       "  <thead>\n",
       "    <tr style=\"text-align: right;\">\n",
       "      <th></th>\n",
       "      <th>date</th>\n",
       "      <th>label</th>\n",
       "      <th>vintage</th>\n",
       "      <th>style</th>\n",
       "      <th>country</th>\n",
       "      <th>price</th>\n",
       "      <th>quantity</th>\n",
       "      <th>rate</th>\n",
       "    </tr>\n",
       "  </thead>\n",
       "  <tbody>\n",
       "    <tr>\n",
       "      <th>1249</th>\n",
       "      <td>2021-09-29</td>\n",
       "      <td>Wine Q</td>\n",
       "      <td>2002</td>\n",
       "      <td>Sparkling</td>\n",
       "      <td>Italy</td>\n",
       "      <td>1107.89</td>\n",
       "      <td>13</td>\n",
       "      <td>92</td>\n",
       "    </tr>\n",
       "    <tr>\n",
       "      <th>1519</th>\n",
       "      <td>2021-09-25</td>\n",
       "      <td>Wine D</td>\n",
       "      <td>2002</td>\n",
       "      <td>Red</td>\n",
       "      <td>France</td>\n",
       "      <td>974.01</td>\n",
       "      <td>12</td>\n",
       "      <td>97</td>\n",
       "    </tr>\n",
       "    <tr>\n",
       "      <th>7278</th>\n",
       "      <td>2021-01-30</td>\n",
       "      <td>Wine R</td>\n",
       "      <td>1993</td>\n",
       "      <td>Sparkling</td>\n",
       "      <td>Brazil</td>\n",
       "      <td>958.63</td>\n",
       "      <td>9</td>\n",
       "      <td>83</td>\n",
       "    </tr>\n",
       "    <tr>\n",
       "      <th>8063</th>\n",
       "      <td>2021-09-30</td>\n",
       "      <td>Wine Q</td>\n",
       "      <td>1982</td>\n",
       "      <td>Sparkling</td>\n",
       "      <td>Chile</td>\n",
       "      <td>952.26</td>\n",
       "      <td>3</td>\n",
       "      <td>87</td>\n",
       "    </tr>\n",
       "    <tr>\n",
       "      <th>5918</th>\n",
       "      <td>2021-11-04</td>\n",
       "      <td>Wine C</td>\n",
       "      <td>2012</td>\n",
       "      <td>Red</td>\n",
       "      <td>Spain</td>\n",
       "      <td>928.05</td>\n",
       "      <td>2</td>\n",
       "      <td>83</td>\n",
       "    </tr>\n",
       "    <tr>\n",
       "      <th>...</th>\n",
       "      <td>...</td>\n",
       "      <td>...</td>\n",
       "      <td>...</td>\n",
       "      <td>...</td>\n",
       "      <td>...</td>\n",
       "      <td>...</td>\n",
       "      <td>...</td>\n",
       "      <td>...</td>\n",
       "    </tr>\n",
       "    <tr>\n",
       "      <th>7244</th>\n",
       "      <td>2021-05-13</td>\n",
       "      <td>Wine L</td>\n",
       "      <td>2012</td>\n",
       "      <td>White</td>\n",
       "      <td>Uruguay</td>\n",
       "      <td>50.06</td>\n",
       "      <td>6</td>\n",
       "      <td>92</td>\n",
       "    </tr>\n",
       "    <tr>\n",
       "      <th>9304</th>\n",
       "      <td>2021-07-28</td>\n",
       "      <td>Wine X</td>\n",
       "      <td>2001</td>\n",
       "      <td>Sweet</td>\n",
       "      <td>Italy</td>\n",
       "      <td>50.02</td>\n",
       "      <td>2</td>\n",
       "      <td>78</td>\n",
       "    </tr>\n",
       "    <tr>\n",
       "      <th>2970</th>\n",
       "      <td>2021-06-03</td>\n",
       "      <td>Wine V</td>\n",
       "      <td>2012</td>\n",
       "      <td>Sweet</td>\n",
       "      <td>Spain</td>\n",
       "      <td>50.02</td>\n",
       "      <td>2</td>\n",
       "      <td>79</td>\n",
       "    </tr>\n",
       "    <tr>\n",
       "      <th>9256</th>\n",
       "      <td>2021-11-01</td>\n",
       "      <td>Wine W</td>\n",
       "      <td>1995</td>\n",
       "      <td>Sweet</td>\n",
       "      <td>Brazil</td>\n",
       "      <td>50.01</td>\n",
       "      <td>12</td>\n",
       "      <td>94</td>\n",
       "    </tr>\n",
       "    <tr>\n",
       "      <th>4910</th>\n",
       "      <td>2021-08-15</td>\n",
       "      <td>Wine Z</td>\n",
       "      <td>2009</td>\n",
       "      <td>Orange</td>\n",
       "      <td>Brazil</td>\n",
       "      <td>50.01</td>\n",
       "      <td>5</td>\n",
       "      <td>90</td>\n",
       "    </tr>\n",
       "  </tbody>\n",
       "</table>\n",
       "<p>10000 rows × 8 columns</p>\n",
       "</div>"
      ],
      "text/plain": [
       "            date   label  vintage      style  country    price  quantity  rate\n",
       "1249  2021-09-29  Wine Q     2002  Sparkling    Italy  1107.89        13    92\n",
       "1519  2021-09-25  Wine D     2002        Red   France   974.01        12    97\n",
       "7278  2021-01-30  Wine R     1993  Sparkling   Brazil   958.63         9    83\n",
       "8063  2021-09-30  Wine Q     1982  Sparkling    Chile   952.26         3    87\n",
       "5918  2021-11-04  Wine C     2012        Red    Spain   928.05         2    83\n",
       "...          ...     ...      ...        ...      ...      ...       ...   ...\n",
       "7244  2021-05-13  Wine L     2012      White  Uruguay    50.06         6    92\n",
       "9304  2021-07-28  Wine X     2001      Sweet    Italy    50.02         2    78\n",
       "2970  2021-06-03  Wine V     2012      Sweet    Spain    50.02         2    79\n",
       "9256  2021-11-01  Wine W     1995      Sweet   Brazil    50.01        12    94\n",
       "4910  2021-08-15  Wine Z     2009     Orange   Brazil    50.01         5    90\n",
       "\n",
       "[10000 rows x 8 columns]"
      ]
     },
     "execution_count": 11,
     "metadata": {},
     "output_type": "execute_result"
    }
   ],
   "source": [
    "df_wine.sort_values(\"price\", ascending=False)   # Outra forma seria utilizar as funções máximo e  mínimo."
   ]
  },
  {
   "cell_type": "code",
   "execution_count": null,
   "id": "0a80e569",
   "metadata": {},
   "outputs": [],
   "source": [
    "df_wine[\"date\"] = pd.to_datetime(df_wine[\"date\"])"
   ]
  },
  {
   "cell_type": "code",
   "execution_count": 16,
   "id": "66700718",
   "metadata": {},
   "outputs": [
    {
     "data": {
      "text/plain": [
       "0      2021-01-04\n",
       "1      2021-03-11\n",
       "2      2021-10-02\n",
       "3      2021-06-05\n",
       "4      2021-09-06\n",
       "          ...    \n",
       "9995   2021-08-07\n",
       "9996   2021-03-03\n",
       "9997   2021-12-28\n",
       "9998   2021-06-19\n",
       "9999   2021-09-18\n",
       "Name: date, Length: 10000, dtype: datetime64[ns]"
      ]
     },
     "execution_count": 16,
     "metadata": {},
     "output_type": "execute_result"
    }
   ],
   "source": [
    "df_wine[\"date\"]"
   ]
  },
  {
   "cell_type": "code",
   "execution_count": 15,
   "id": "a1b0b406",
   "metadata": {},
   "outputs": [
    {
     "name": "stdout",
     "output_type": "stream",
     "text": [
      "<class 'pandas.core.frame.DataFrame'>\n",
      "RangeIndex: 10000 entries, 0 to 9999\n",
      "Data columns (total 8 columns):\n",
      " #   Column    Non-Null Count  Dtype         \n",
      "---  ------    --------------  -----         \n",
      " 0   date      10000 non-null  datetime64[ns]\n",
      " 1   label     10000 non-null  object        \n",
      " 2   vintage   10000 non-null  int64         \n",
      " 3   style     10000 non-null  object        \n",
      " 4   country   10000 non-null  object        \n",
      " 5   price     10000 non-null  float64       \n",
      " 6   quantity  10000 non-null  int64         \n",
      " 7   rate      10000 non-null  int64         \n",
      "dtypes: datetime64[ns](1), float64(1), int64(3), object(3)\n",
      "memory usage: 625.1+ KB\n"
     ]
    }
   ],
   "source": [
    "df_wine.info()"
   ]
  },
  {
   "cell_type": "code",
   "execution_count": null,
   "id": "aa8cae84",
   "metadata": {},
   "outputs": [],
   "source": [
    "df_wine[\"quantity\"] = pd.to_numeric(df_wine[\"quantity\"], downcast=\"integer\")   # Otimizando o uso da memória para o tipo int8 "
   ]
  },
  {
   "cell_type": "code",
   "execution_count": null,
   "id": "de7d5de2",
   "metadata": {},
   "outputs": [
    {
     "name": "stdout",
     "output_type": "stream",
     "text": [
      "<class 'pandas.core.series.Series'>\n",
      "RangeIndex: 10000 entries, 0 to 9999\n",
      "Series name: quantity\n",
      "Non-Null Count  Dtype\n",
      "--------------  -----\n",
      "10000 non-null  int8 \n",
      "dtypes: int8(1)\n",
      "memory usage: 9.9 KB\n"
     ]
    }
   ],
   "source": [
    "df_wine[\"quantity\"].info()   "
   ]
  },
  {
   "cell_type": "code",
   "execution_count": null,
   "id": "f12161a4",
   "metadata": {},
   "outputs": [],
   "source": []
  }
 ],
 "metadata": {
  "kernelspec": {
   "display_name": "venv",
   "language": "python",
   "name": "python3"
  },
  "language_info": {
   "codemirror_mode": {
    "name": "ipython",
    "version": 3
   },
   "file_extension": ".py",
   "mimetype": "text/x-python",
   "name": "python",
   "nbconvert_exporter": "python",
   "pygments_lexer": "ipython3",
   "version": "3.11.7"
  }
 },
 "nbformat": 4,
 "nbformat_minor": 5
}
